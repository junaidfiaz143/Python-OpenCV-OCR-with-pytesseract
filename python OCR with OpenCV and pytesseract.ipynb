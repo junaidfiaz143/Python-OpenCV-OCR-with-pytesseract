{
 "cells": [
  {
   "cell_type": "code",
   "execution_count": 13,
   "metadata": {},
   "outputs": [],
   "source": [
    "import cv2\n",
    "import numpy as np\n",
    "import pytesseract\n",
    "from PIL import Image\n",
    "\n",
    "pytesseract.pytesseract.tesseract_cmd = \"C:\\\\Program Files (x86)\\\\Tesseract-OCR\\\\tesseract\""
   ]
  },
  {
   "cell_type": "code",
   "execution_count": 16,
   "metadata": {
    "collapsed": true
   },
   "outputs": [],
   "source": [
    "src_path = \"C:/Users/junaid/MyNotebooks/OpencV/\"\n",
    "\n",
    "def get_String(img_path):\n",
    "    #read image\n",
    "    img = cv2.imread(img_path)\n",
    "    #convert it to gray\n",
    "    img = cv2.cvtColor(img, cv2.COLOR_BGR2GRAY)\n",
    "    #apply some dilation and erosion to remove some noise\n",
    "    kernel = np.ones((1, 1), np.uint8)\n",
    "    img = cv2.dilate(img, kernel, iterations=1)\n",
    "    img = cv2.erode(img, kernel, iterations=1)\n",
    "    #save image\n",
    "    cv2.imwrite(src_path + \"img2.png\", img)\n",
    "    \n",
    "    #apply threshold to get image only with black&white color\n",
    "    img = cv2.adaptiveThreshold(img, 255, cv2.ADAPTIVE_THRESH_GAUSSIAN_C, cv2.THRESH_BINARY, 11, 2)\n",
    "    #save image\n",
    "    cv2.imwrite(src_path + \"img3.png\", img)\n",
    "    \n",
    "    #read text from images\n",
    "    result = pytesseract.image_to_string(Image.open(src_path + \"img3.png\"))\n",
    "    #return text results\n",
    "    return result"
   ]
  },
  {
   "cell_type": "code",
   "execution_count": 18,
   "metadata": {},
   "outputs": [
    {
     "name": "stdout",
     "output_type": "stream",
     "text": [
      "Some people need to\n",
      "enlarge web content\n",
      "in order to read it.\n",
      "Some need to\n",
      "change other\n",
      "aspects of text\n",
      "display: font, space\n",
      "between lines, and\n",
      "more.\n"
     ]
    }
   ],
   "source": [
    "print(get_String(src_path + \"img.png\"))"
   ]
  },
  {
   "cell_type": "markdown",
   "metadata": {},
   "source": [
    "URL - https://www.youtube.com/watch?v=83vFL6d57OI"
   ]
  },
  {
   "cell_type": "code",
   "execution_count": null,
   "metadata": {
    "collapsed": true
   },
   "outputs": [],
   "source": []
  }
 ],
 "metadata": {
  "kernelspec": {
   "display_name": "Python 3",
   "language": "python",
   "name": "python3"
  },
  "language_info": {
   "codemirror_mode": {
    "name": "ipython",
    "version": 3
   },
   "file_extension": ".py",
   "mimetype": "text/x-python",
   "name": "python",
   "nbconvert_exporter": "python",
   "pygments_lexer": "ipython3",
   "version": "3.6.1"
  }
 },
 "nbformat": 4,
 "nbformat_minor": 2
}
